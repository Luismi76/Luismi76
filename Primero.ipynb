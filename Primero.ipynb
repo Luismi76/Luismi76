{
  "nbformat": 4,
  "nbformat_minor": 0,
  "metadata": {
    "colab": {
      "provenance": [],
      "toc_visible": true,
      "authorship_tag": "ABX9TyOO2R4YeqcIqihobG3MPP1R",
      "include_colab_link": true
    },
    "kernelspec": {
      "name": "python3",
      "display_name": "Python 3"
    },
    "language_info": {
      "name": "python"
    }
  },
  "cells": [
    {
      "cell_type": "markdown",
      "metadata": {
        "id": "view-in-github",
        "colab_type": "text"
      },
      "source": [
        "<a href=\"https://colab.research.google.com/github/Luismi76/Luismi76/blob/main/Primero.ipynb\" target=\"_parent\"><img src=\"https://colab.research.google.com/assets/colab-badge.svg\" alt=\"Open In Colab\"/></a>"
      ]
    },
    {
      "cell_type": "markdown",
      "source": [
        "# Primer proyecto de programación.\n",
        "## Markdown"
      ],
      "metadata": {
        "id": "r0qcOzTJGyk-"
      }
    },
    {
      "cell_type": "code",
      "execution_count": 2,
      "metadata": {
        "colab": {
          "base_uri": "https://localhost:8080/"
        },
        "id": "riE5D0a1GUhz",
        "outputId": "78646641-4b1e-4aec-88be-444768850e45"
      },
      "outputs": [
        {
          "output_type": "stream",
          "name": "stdout",
          "text": [
            "Hola mundo\n"
          ]
        }
      ],
      "source": [
        "print(\"Hola mundo\")"
      ]
    },
    {
      "cell_type": "code",
      "source": [
        "print('Ahora con comillas simles')"
      ],
      "metadata": {
        "colab": {
          "base_uri": "https://localhost:8080/"
        },
        "id": "y1v-xI9KNvAx",
        "outputId": "518ccc28-a460-48ed-f71d-e06271a18efa"
      },
      "execution_count": 3,
      "outputs": [
        {
          "output_type": "stream",
          "name": "stdout",
          "text": [
            "Ahora con comillas simles\n"
          ]
        }
      ]
    },
    {
      "cell_type": "code",
      "source": [
        "print(\"Ahora combino con 'comillas' simples\")"
      ],
      "metadata": {
        "colab": {
          "base_uri": "https://localhost:8080/"
        },
        "id": "x7PmX96nN1NU",
        "outputId": "a6dc838a-ec2a-43b0-e740-885318f62076"
      },
      "execution_count": 4,
      "outputs": [
        {
          "output_type": "stream",
          "name": "stdout",
          "text": [
            "Ahora combino con 'comillas' simples\n"
          ]
        }
      ]
    },
    {
      "cell_type": "markdown",
      "source": [
        "# Variables en python"
      ],
      "metadata": {
        "id": "_KbZdbPIPGkR"
      }
    },
    {
      "cell_type": "code",
      "source": [
        "nombre = \"Paco\"\n",
        "nombre = \"Maria\"\n",
        "print(nombre)"
      ],
      "metadata": {
        "colab": {
          "base_uri": "https://localhost:8080/"
        },
        "id": "2MvRTQBlPLxd",
        "outputId": "892d4089-d05a-405a-ebc8-01428b04375a"
      },
      "execution_count": 6,
      "outputs": [
        {
          "output_type": "stream",
          "name": "stdout",
          "text": [
            "Maria\n"
          ]
        }
      ]
    },
    {
      "cell_type": "code",
      "source": [
        "num1 = 70\n",
        "num2 = 53\n",
        "print(num1 + num2)\n",
        "print(num1 - num2)\n",
        "print(num1 * num2)\n",
        "print(num1 / num2)\n",
        "print(num1 // num2)\n"
      ],
      "metadata": {
        "colab": {
          "base_uri": "https://localhost:8080/"
        },
        "id": "amkd129HObwU",
        "outputId": "f756ccba-6c1b-4bc7-b396-9b18a5b9cae6"
      },
      "execution_count": 21,
      "outputs": [
        {
          "output_type": "stream",
          "name": "stdout",
          "text": [
            "123\n",
            "17\n",
            "3710\n",
            "1.320754716981132\n",
            "1\n",
            "17\n"
          ]
        }
      ]
    },
    {
      "cell_type": "code",
      "source": [
        "print(\"hola mundo\")"
      ],
      "metadata": {
        "colab": {
          "base_uri": "https://localhost:8080/"
        },
        "id": "fbqTotnvTF8C",
        "outputId": "83851fb9-19fa-450e-b2ab-86724bb37b8f"
      },
      "execution_count": 9,
      "outputs": [
        {
          "output_type": "stream",
          "name": "stdout",
          "text": [
            "hola mundo\n"
          ]
        }
      ]
    },
    {
      "cell_type": "code",
      "source": [
        "nombre = \"Paco\"\n",
        "edad = 20\n",
        "\n",
        "print(\"Hola, soy \" + nombre + \" y tengo \" + str(edad) + \" años.\")\n",
        "print(\"Hola, soy \", nombre, \" y tengo \", edad, \" años\")\n",
        "print(f\"Hola, soy {nombre} y tengo {edad} años\")"
      ],
      "metadata": {
        "colab": {
          "base_uri": "https://localhost:8080/"
        },
        "id": "f_9iE79oiGlz",
        "outputId": "1cdd44cf-a2ac-40ba-c58c-3f97c8f65a4f"
      },
      "execution_count": 14,
      "outputs": [
        {
          "output_type": "stream",
          "name": "stdout",
          "text": [
            "Hola, soy Paco y tengo 20 años.\n",
            "Hola, soy  Paco  y tengo  20  años\n",
            "Hola, soy Paco y tengo 20 años\n"
          ]
        }
      ]
    },
    {
      "cell_type": "code",
      "source": [
        "nombre = input(\"Introduzca un nombre: \")\n",
        "print(nombre)"
      ],
      "metadata": {
        "colab": {
          "base_uri": "https://localhost:8080/"
        },
        "id": "Q9UntddXnWLO",
        "outputId": "3bf8f416-2668-48f9-8722-3d60fe92bc9d"
      },
      "execution_count": 13,
      "outputs": [
        {
          "output_type": "stream",
          "name": "stdout",
          "text": [
            "Introduzca un nombre: Pepito\n",
            "Pepito\n"
          ]
        }
      ]
    },
    {
      "cell_type": "code",
      "source": [
        "numero1 = 11\n",
        "numero2 = 5\n",
        "\n",
        "division_entera = numero1 // numero2\n",
        "\n",
        "print(division_entera)\n",
        "\n"
      ],
      "metadata": {
        "colab": {
          "base_uri": "https://localhost:8080/"
        },
        "id": "6qjHo3XSrtWO",
        "outputId": "f1dd77e4-6757-4cc6-81e7-4632dc343974"
      },
      "execution_count": 22,
      "outputs": [
        {
          "output_type": "stream",
          "name": "stdout",
          "text": [
            "2\n"
          ]
        }
      ]
    },
    {
      "cell_type": "code",
      "source": [
        "contador= 0\n",
        "\n"
      ],
      "metadata": {
        "id": "1lG9YpqS__bt"
      },
      "execution_count": null,
      "outputs": []
    }
  ]
}